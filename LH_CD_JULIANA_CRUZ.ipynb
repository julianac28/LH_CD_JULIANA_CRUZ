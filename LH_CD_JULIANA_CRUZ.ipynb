{
 "cells": [
  {
   "cell_type": "markdown",
   "id": "e2416b81-17e7-4bda-8550-a030e49c93ba",
   "metadata": {},
   "source": [
    "## Bibliotecas"
   ]
  },
  {
   "cell_type": "code",
   "execution_count": 56,
   "id": "b4fe2009-9bff-4a8e-8ed4-cd01ba767a76",
   "metadata": {},
   "outputs": [],
   "source": [
    "#Auto complete\n",
    "%config IPCompleter.greedy=True\n",
    "from IPython import get_ipython\n",
    "import warnings\n",
    "warnings.filterwarnings('ignore')\n",
    "\n",
    "#Imporando das Bibliotecas\n",
    "import pandas as pd\n",
    "import numpy as np\n",
    "import matplotlib.pyplot as plt\n",
    "import seaborn as sns\n",
    "import random "
   ]
  },
  {
   "cell_type": "code",
   "execution_count": 57,
   "id": "8a67cbaa-c832-450b-a142-375e3d9b2b5d",
   "metadata": {},
   "outputs": [],
   "source": [
    "#Regressão\n",
    "from sklearn.model_selection import train_test_split\n",
    "from sklearn.metrics import mean_squared_error, mean_absolute_error, r2_score\n",
    "from sklearn.model_selection import cross_val_score\n",
    "\n",
    "from sklearn.linear_model import LinearRegression\n",
    "from sklearn.ensemble import RandomForestRegressor\n",
    "from sklearn.preprocessing import StandardScaler"
   ]
  },
  {
   "cell_type": "markdown",
   "id": "33ae0907-3aad-4d41-88dc-c547ab53cbb9",
   "metadata": {},
   "source": [
    "### Análise Exploratória dos Dados"
   ]
  },
  {
   "cell_type": "code",
   "execution_count": 58,
   "id": "eadf57e3-13db-41bd-b34f-59029f8e8cb3",
   "metadata": {},
   "outputs": [],
   "source": [
    "#Carregamento do csv\n",
    "df = pd.read_csv('dados.csv')"
   ]
  },
  {
   "cell_type": "code",
   "execution_count": 59,
   "id": "198699f0-cd49-4e0a-aaf4-47fdcfcd29a5",
   "metadata": {},
   "outputs": [
    {
     "data": {
      "text/plain": [
       "(48894, 16)"
      ]
     },
     "execution_count": 59,
     "metadata": {},
     "output_type": "execute_result"
    }
   ],
   "source": [
    "# Total de linhas e colunas\n",
    "df.shape"
   ]
  },
  {
   "cell_type": "code",
   "execution_count": 60,
   "id": "86574fbe-45bb-4bb3-9487-f70515551e85",
   "metadata": {},
   "outputs": [
    {
     "data": {
      "text/plain": [
       "id                                   0\n",
       "nome                                16\n",
       "host_id                              0\n",
       "host_name                           21\n",
       "bairro_group                         0\n",
       "bairro                               0\n",
       "latitude                             0\n",
       "longitude                            0\n",
       "room_type                            0\n",
       "price                                0\n",
       "minimo_noites                        0\n",
       "numero_de_reviews                    0\n",
       "ultima_review                    10052\n",
       "reviews_por_mes                  10052\n",
       "calculado_host_listings_count        0\n",
       "disponibilidade_365                  0\n",
       "dtype: int64"
      ]
     },
     "execution_count": 60,
     "metadata": {},
     "output_type": "execute_result"
    }
   ],
   "source": [
    "#Verificação dos dados faltantes\n",
    "df.isna().sum() "
   ]
  },
  {
   "cell_type": "code",
   "execution_count": 61,
   "id": "b9beb293-705f-4020-9702-63ccd65d0df4",
   "metadata": {},
   "outputs": [
    {
     "data": {
      "text/plain": [
       "0"
      ]
     },
     "execution_count": 61,
     "metadata": {},
     "output_type": "execute_result"
    }
   ],
   "source": [
    "#Verificar se existe registros duplicados\n",
    "df.id.duplicated().sum()"
   ]
  },
  {
   "cell_type": "code",
   "execution_count": 62,
   "id": "cfb45486-a40d-407c-8fd8-ca4d3cd54167",
   "metadata": {},
   "outputs": [
    {
     "name": "stdout",
     "output_type": "stream",
     "text": [
      "<class 'pandas.core.frame.DataFrame'>\n",
      "RangeIndex: 48894 entries, 0 to 48893\n",
      "Data columns (total 16 columns):\n",
      " #   Column                         Non-Null Count  Dtype  \n",
      "---  ------                         --------------  -----  \n",
      " 0   id                             48894 non-null  int64  \n",
      " 1   nome                           48878 non-null  object \n",
      " 2   host_id                        48894 non-null  int64  \n",
      " 3   host_name                      48873 non-null  object \n",
      " 4   bairro_group                   48894 non-null  object \n",
      " 5   bairro                         48894 non-null  object \n",
      " 6   latitude                       48894 non-null  float64\n",
      " 7   longitude                      48894 non-null  float64\n",
      " 8   room_type                      48894 non-null  object \n",
      " 9   price                          48894 non-null  int64  \n",
      " 10  minimo_noites                  48894 non-null  int64  \n",
      " 11  numero_de_reviews              48894 non-null  int64  \n",
      " 12  ultima_review                  38842 non-null  object \n",
      " 13  reviews_por_mes                38842 non-null  float64\n",
      " 14  calculado_host_listings_count  48894 non-null  int64  \n",
      " 15  disponibilidade_365            48894 non-null  int64  \n",
      "dtypes: float64(3), int64(7), object(6)\n",
      "memory usage: 6.0+ MB\n"
     ]
    }
   ],
   "source": [
    "#Descrição dos atributos por tipo\n",
    "df.info()"
   ]
  },
  {
   "cell_type": "code",
   "execution_count": 63,
   "id": "341270c4-13bd-41a9-b4a1-08309938f7a4",
   "metadata": {},
   "outputs": [
    {
     "data": {
      "text/plain": [
       "room_type\n",
       "Entire home/apt    0.519675\n",
       "Private room       0.456600\n",
       "Shared room        0.023725\n",
       "Name: proportion, dtype: float64"
      ]
     },
     "execution_count": 63,
     "metadata": {},
     "output_type": "execute_result"
    }
   ],
   "source": [
    "#Percentual de cada categoria do tipo | são três categorias\n",
    "df['room_type'].value_counts(normalize=True)"
   ]
  },
  {
   "cell_type": "code",
   "execution_count": 64,
   "id": "62e0aca4-537e-4be5-9bc3-8f69a45be408",
   "metadata": {},
   "outputs": [
    {
     "data": {
      "text/plain": [
       "bairro_group\n",
       "Manhattan        0.443020\n",
       "Brooklyn         0.411155\n",
       "Queens           0.115883\n",
       "Bronx            0.022314\n",
       "Staten Island    0.007629\n",
       "Name: proportion, dtype: float64"
      ]
     },
     "execution_count": 64,
     "metadata": {},
     "output_type": "execute_result"
    }
   ],
   "source": [
    "#Percentual de cada categoria do tipo | são cinco categorias\n",
    "df['bairro_group'].value_counts(normalize=True)"
   ]
  },
  {
   "cell_type": "code",
   "execution_count": 65,
   "id": "fdd54339-73de-49cd-92c2-b7ee886d363a",
   "metadata": {},
   "outputs": [
    {
     "data": {
      "text/html": [
       "<div>\n",
       "<style scoped>\n",
       "    .dataframe tbody tr th:only-of-type {\n",
       "        vertical-align: middle;\n",
       "    }\n",
       "\n",
       "    .dataframe tbody tr th {\n",
       "        vertical-align: top;\n",
       "    }\n",
       "\n",
       "    .dataframe thead th {\n",
       "        text-align: right;\n",
       "    }\n",
       "</style>\n",
       "<table border=\"1\" class=\"dataframe\">\n",
       "  <thead>\n",
       "    <tr style=\"text-align: right;\">\n",
       "      <th>room_type</th>\n",
       "      <th>Entire home/apt</th>\n",
       "      <th>Private room</th>\n",
       "      <th>Shared room</th>\n",
       "    </tr>\n",
       "    <tr>\n",
       "      <th>bairro_group</th>\n",
       "      <th></th>\n",
       "      <th></th>\n",
       "      <th></th>\n",
       "    </tr>\n",
       "  </thead>\n",
       "  <tbody>\n",
       "    <tr>\n",
       "      <th>Bronx</th>\n",
       "      <td>0.347388</td>\n",
       "      <td>0.597617</td>\n",
       "      <td>0.054995</td>\n",
       "    </tr>\n",
       "    <tr>\n",
       "      <th>Brooklyn</th>\n",
       "      <td>0.475501</td>\n",
       "      <td>0.503955</td>\n",
       "      <td>0.020544</td>\n",
       "    </tr>\n",
       "    <tr>\n",
       "      <th>Manhattan</th>\n",
       "      <td>0.609344</td>\n",
       "      <td>0.368496</td>\n",
       "      <td>0.022160</td>\n",
       "    </tr>\n",
       "    <tr>\n",
       "      <th>Queens</th>\n",
       "      <td>0.369926</td>\n",
       "      <td>0.595129</td>\n",
       "      <td>0.034945</td>\n",
       "    </tr>\n",
       "    <tr>\n",
       "      <th>Staten Island</th>\n",
       "      <td>0.471850</td>\n",
       "      <td>0.504021</td>\n",
       "      <td>0.024129</td>\n",
       "    </tr>\n",
       "  </tbody>\n",
       "</table>\n",
       "</div>"
      ],
      "text/plain": [
       "room_type      Entire home/apt  Private room  Shared room\n",
       "bairro_group                                             \n",
       "Bronx                 0.347388      0.597617     0.054995\n",
       "Brooklyn              0.475501      0.503955     0.020544\n",
       "Manhattan             0.609344      0.368496     0.022160\n",
       "Queens                0.369926      0.595129     0.034945\n",
       "Staten Island         0.471850      0.504021     0.024129"
      ]
     },
     "execution_count": 65,
     "metadata": {},
     "output_type": "execute_result"
    }
   ],
   "source": [
    "pd.crosstab(df['bairro_group'], df['room_type'], normalize='index')"
   ]
  },
  {
   "cell_type": "code",
   "execution_count": 66,
   "id": "2d3fff17-ede9-43ab-a5ea-71ef5a0c8a1a",
   "metadata": {},
   "outputs": [
    {
     "data": {
      "text/plain": [
       "<Axes: xlabel='bairro_group', ylabel='count'>"
      ]
     },
     "execution_count": 66,
     "metadata": {},
     "output_type": "execute_result"
    },
    {
     "data": {
      "image/png": "[encoded data removed]",
      "text/plain": [
       "<Figure size 640x480 with 1 Axes>"
      ]
     },
     "metadata": {},
     "output_type": "display_data"
    }
   ],
   "source": [
    "sns.countplot(x='bairro_group', hue='room_type', data=df)"
   ]
  },
  {
   "cell_type": "code",
   "execution_count": 67,
   "id": "cdc77130-bb01-47e3-aeec-9034f68ea997",
   "metadata": {},
   "outputs": [
    {
     "data": {
      "text/html": [
       "<div>\n",
       "<style scoped>\n",
       "    .dataframe tbody tr th:only-of-type {\n",
       "        vertical-align: middle;\n",
       "    }\n",
       "\n",
       "    .dataframe tbody tr th {\n",
       "        vertical-align: top;\n",
       "    }\n",
       "\n",
       "    .dataframe thead tr th {\n",
       "        text-align: left;\n",
       "    }\n",
       "\n",
       "    .dataframe thead tr:last-of-type th {\n",
       "        text-align: right;\n",
       "    }\n",
       "</style>\n",
       "<table border=\"1\" class=\"dataframe\">\n",
       "  <thead>\n",
       "    <tr>\n",
       "      <th></th>\n",
       "      <th colspan=\"4\" halign=\"left\">price</th>\n",
       "    </tr>\n",
       "    <tr>\n",
       "      <th></th>\n",
       "      <th>min</th>\n",
       "      <th>max</th>\n",
       "      <th>sum</th>\n",
       "      <th>mean</th>\n",
       "    </tr>\n",
       "    <tr>\n",
       "      <th>bairro_group</th>\n",
       "      <th></th>\n",
       "      <th></th>\n",
       "      <th></th>\n",
       "      <th></th>\n",
       "    </tr>\n",
       "  </thead>\n",
       "  <tbody>\n",
       "    <tr>\n",
       "      <th>Bronx</th>\n",
       "      <td>0</td>\n",
       "      <td>2500</td>\n",
       "      <td>95459</td>\n",
       "      <td>87.496792</td>\n",
       "    </tr>\n",
       "    <tr>\n",
       "      <th>Brooklyn</th>\n",
       "      <td>0</td>\n",
       "      <td>10000</td>\n",
       "      <td>2500451</td>\n",
       "      <td>124.381983</td>\n",
       "    </tr>\n",
       "    <tr>\n",
       "      <th>Manhattan</th>\n",
       "      <td>0</td>\n",
       "      <td>10000</td>\n",
       "      <td>4264527</td>\n",
       "      <td>196.875814</td>\n",
       "    </tr>\n",
       "    <tr>\n",
       "      <th>Queens</th>\n",
       "      <td>10</td>\n",
       "      <td>10000</td>\n",
       "      <td>563867</td>\n",
       "      <td>99.517649</td>\n",
       "    </tr>\n",
       "    <tr>\n",
       "      <th>Staten Island</th>\n",
       "      <td>13</td>\n",
       "      <td>5000</td>\n",
       "      <td>42825</td>\n",
       "      <td>114.812332</td>\n",
       "    </tr>\n",
       "  </tbody>\n",
       "</table>\n",
       "</div>"
      ],
      "text/plain": [
       "              price                            \n",
       "                min    max      sum        mean\n",
       "bairro_group                                   \n",
       "Bronx             0   2500    95459   87.496792\n",
       "Brooklyn          0  10000  2500451  124.381983\n",
       "Manhattan         0  10000  4264527  196.875814\n",
       "Queens           10  10000   563867   99.517649\n",
       "Staten Island    13   5000    42825  114.812332"
      ]
     },
     "execution_count": 67,
     "metadata": {},
     "output_type": "execute_result"
    }
   ],
   "source": [
    "#Visualização dos dados quanto ao local e o preço\n",
    "bairro_group = df[['bairro_group','price']]\n",
    "bairro_group.groupby(['bairro_group']).agg(['min', 'max','sum','mean'])"
   ]
  },
  {
   "cell_type": "code",
   "execution_count": 68,
   "id": "ffcd5403-84fc-4c35-b859-8c8635eb4976",
   "metadata": {},
   "outputs": [
    {
     "data": {
      "text/plain": [
       "bairro\n",
       "Williamsburg          0.080173\n",
       "Bedford-Stuyvesant    0.075960\n",
       "Harlem                0.054362\n",
       "Bushwick              0.050415\n",
       "Upper West Side       0.040312\n",
       "                        ...   \n",
       "Fort Wadsworth        0.000020\n",
       "Richmondtown          0.000020\n",
       "New Dorp              0.000020\n",
       "Rossville             0.000020\n",
       "Willowbrook           0.000020\n",
       "Name: proportion, Length: 221, dtype: float64"
      ]
     },
     "execution_count": 68,
     "metadata": {},
     "output_type": "execute_result"
    }
   ],
   "source": [
    "#Percentual de cada categoria do tipo | multi categorias\n",
    "df['bairro'].value_counts(normalize=True)"
   ]
  },
  {
   "cell_type": "code",
   "execution_count": 69,
   "id": "37e2ed82-e21a-4e7c-909f-817da43c36aa",
   "metadata": {},
   "outputs": [
    {
     "data": {
      "text/plain": [
       "host_name\n",
       "Michael              0.008532\n",
       "David                0.008246\n",
       "Sonder (NYC)         0.006691\n",
       "John                 0.005995\n",
       "Alex                 0.005709\n",
       "                       ...   \n",
       "Rhonycs              0.000020\n",
       "Brandy-Courtney      0.000020\n",
       "Shanthony            0.000020\n",
       "Aurore And Jamila    0.000020\n",
       "Ilgar & Aysel        0.000020\n",
       "Name: proportion, Length: 11452, dtype: float64"
      ]
     },
     "execution_count": 69,
     "metadata": {},
     "output_type": "execute_result"
    }
   ],
   "source": [
    "#Percentual de cada categoria do tipo | multi categorias, os cinco primeiro usuário representam 3,52% dos registros.\n",
    "df['host_name'].value_counts(normalize=True)"
   ]
  },
  {
   "cell_type": "markdown",
   "id": "8a019116-74fa-4154-ae16-bc251304298b",
   "metadata": {},
   "source": [
    "### Processamento de texto"
   ]
  },
  {
   "cell_type": "code",
   "execution_count": 70,
   "id": "56135a8a-377d-4c32-b399-476f8d47b0f6",
   "metadata": {},
   "outputs": [
    {
     "name": "stderr",
     "output_type": "stream",
     "text": [
      "[nltk_data] Downloading package stopwords to\n",
      "[nltk_data]     C:\\Users\\julia\\AppData\\Roaming\\nltk_data...\n",
      "[nltk_data]   Package stopwords is already up-to-date!\n",
      "[nltk_data] Downloading package punkt to\n",
      "[nltk_data]     C:\\Users\\julia\\AppData\\Roaming\\nltk_data...\n",
      "[nltk_data]   Package punkt is already up-to-date!\n",
      "[nltk_data] Downloading package wordnet to\n",
      "[nltk_data]     C:\\Users\\julia\\AppData\\Roaming\\nltk_data...\n",
      "[nltk_data]   Package wordnet is already up-to-date!\n"
     ]
    },
    {
     "data": {
      "text/plain": [
       "True"
      ]
     },
     "execution_count": 70,
     "metadata": {},
     "output_type": "execute_result"
    }
   ],
   "source": [
    "import pandas as pd\n",
    "import nltk\n",
    "from nltk.corpus import stopwords\n",
    "from nltk.tokenize import word_tokenize\n",
    "from nltk.stem.snowball import SnowballStemmer\n",
    "from nltk.stem.wordnet import WordNetLemmatizer\n",
    "nltk.download('stopwords')\n",
    "nltk.download('punkt')\n",
    "nltk.download('wordnet')"
   ]
  },
  {
   "cell_type": "code",
   "execution_count": 71,
   "id": "3ac0147f-00c9-4ece-9a2e-83345acaabb1",
   "metadata": {},
   "outputs": [],
   "source": [
    "#Visualização dos dados quanto ao local e o preço\n",
    "nome = df[['nome','price']]\n",
    "#bairro_group.groupby(['bairro_group']).agg(['min', 'max','sum','mean'])"
   ]
  },
  {
   "cell_type": "code",
   "execution_count": 72,
   "id": "281a006c-0ef6-4f6a-a08d-f43d0911fd36",
   "metadata": {},
   "outputs": [],
   "source": [
    "acima_1000 = nome.loc[nome['price'] >= 1000].sort_values(by='price',ascending = False)"
   ]
  },
  {
   "cell_type": "code",
   "execution_count": 73,
   "id": "0a0ec6d2-424d-4b74-b05c-84cfb418ca75",
   "metadata": {},
   "outputs": [
    {
     "data": {
      "text/plain": [
       "(298, 2)"
      ]
     },
     "execution_count": 73,
     "metadata": {},
     "output_type": "execute_result"
    }
   ],
   "source": [
    "acima_1000.shape"
   ]
  },
  {
   "cell_type": "code",
   "execution_count": 74,
   "id": "65e3d3b9-b312-40bd-bdb3-b46337f02756",
   "metadata": {},
   "outputs": [],
   "source": [
    "def clean_function(df, column_text):\n",
    "    df[f'{column_text}_cleaned'] = df[[f'{column_text}']]\\\n",
    "    .replace(regex=r'[!/,.-]',value='')\\\n",
    "    .apply(lambda x: x.astype(str).str.lower())\\\n",
    "    .apply(lambda x:x.astype(str).str.normalize('NFKD').str.encode('ascii', errors='ignore').str.decode('utf-8'))\n",
    "    return df"
   ]
  },
  {
   "cell_type": "code",
   "execution_count": 75,
   "id": "769ff615-630d-4f49-98d6-43e74f454287",
   "metadata": {},
   "outputs": [],
   "source": [
    "def stop_words_function(df, column_name, new_column_name):\n",
    "    stop_words = stopwords.words('English')\n",
    "    df[new_column_name] = df[column_name].apply(lambda x: ' '.join([word for word in x.split() if word not in (stop_words)]))\n",
    "    return df"
   ]
  },
  {
   "cell_type": "code",
   "execution_count": 76,
   "id": "109eb2f8-c163-48c9-8365-d3c6920f17b3",
   "metadata": {},
   "outputs": [],
   "source": [
    "def tokenization (df,column_name, new_column_name):\n",
    "    df[new_column_name] = df[column_name].map(lambda x: word_tokenize(x))\n",
    "    return df"
   ]
  },
  {
   "cell_type": "code",
   "execution_count": 77,
   "id": "8c82c09e-ab28-491e-8c45-d1b26efc140b",
   "metadata": {},
   "outputs": [],
   "source": [
    "# Aplicação das funções\n",
    "acima_1000_sw = stop_words_function(acima_1000, 'nome', 'nome_stop_word')\n",
    "acima_1000_tk = tokenization(acima_1000_sw, 'nome_stop_word', 'nome_token')"
   ]
  },
  {
   "cell_type": "code",
   "execution_count": 78,
   "id": "fb880006-456f-44fc-9dab-6038537ddaaa",
   "metadata": {},
   "outputs": [],
   "source": [
    "#Transforma a lista de listas em uma única lista\n",
    "palavras = sum(acima_1000_tk['nome_token'], [])\n",
    "\n",
    "# Cria uma série a partir da lista\n",
    "serie_palavras = pd.Series(palavras)\n",
    "\n",
    "# Conta a frequência de cada palavra\n",
    "frequencia = serie_palavras.value_counts()"
   ]
  },
  {
   "cell_type": "code",
   "execution_count": 79,
   "id": "c2af843d-1d3f-4080-abf7-c7ed5a4289fe",
   "metadata": {},
   "outputs": [],
   "source": [
    "# Limpeza de simbolos e números\n",
    "frequencia = frequencia.drop(labels=[',', '!', '-',')','(','2','.','&'])"
   ]
  },
  {
   "cell_type": "code",
   "execution_count": 80,
   "id": "e4037fdd-e358-4130-87f0-5d0d4b050307",
   "metadata": {},
   "outputs": [
    {
     "data": {
      "text/plain": [
       "Luxury       28\n",
       "Townhouse    27\n",
       "Private      25\n",
       "Loft         25\n",
       "Park         20\n",
       "NYC          19\n",
       "Bedroom      17\n",
       "Village      17\n",
       "Manhattan    16\n",
       "East         16\n",
       "apartment    15\n",
       "West         15\n",
       "Central      14\n",
       "Brooklyn     13\n",
       "Airbnb       13\n",
       "Beautiful    13\n",
       "bedroom      13\n",
       "New          12\n",
       "Hidden       12\n",
       "Penthouse    12\n",
       "Name: count, dtype: int64"
      ]
     },
     "execution_count": 80,
     "metadata": {},
     "output_type": "execute_result"
    }
   ],
   "source": [
    "frequencia.head(20)"
   ]
  },
  {
   "cell_type": "markdown",
   "id": "f3a4fcf0-2512-4e51-b2d5-85a2ceb4fd26",
   "metadata": {},
   "source": [
    "### Pré-processamento"
   ]
  },
  {
   "cell_type": "code",
   "execution_count": 108,
   "id": "b480fb5e-9bea-4966-9ecf-102701ed0824",
   "metadata": {},
   "outputs": [],
   "source": [
    "## Transformação das variáveis categorias em booleanas"
   ]
  },
  {
   "cell_type": "code",
   "execution_count": 109,
   "id": "fec378fc-399e-4553-90ab-00f66a88bbd4",
   "metadata": {},
   "outputs": [],
   "source": [
    "#Transformação do atributo 'room_type' de nominal para discreto\n",
    "df0 = pd.get_dummies(df, columns=['room_type'], prefix=['room_type'])\n",
    "df0 = pd.get_dummies(df0, columns=['bairro_group'],prefix=['bairro'])"
   ]
  },
  {
   "cell_type": "code",
   "execution_count": 110,
   "id": "e2a9f9c2-c5a3-4cb5-b5b2-e81f2c2aa52f",
   "metadata": {
    "scrolled": true
   },
   "outputs": [
    {
     "data": {
      "text/plain": [
       "Index(['id', 'nome', 'host_id', 'host_name', 'bairro', 'latitude', 'longitude',\n",
       "       'price', 'minimo_noites', 'numero_de_reviews', 'ultima_review',\n",
       "       'reviews_por_mes', 'calculado_host_listings_count',\n",
       "       'disponibilidade_365', 'room_type_Entire home/apt',\n",
       "       'room_type_Private room', 'room_type_Shared room', 'bairro_Bronx',\n",
       "       'bairro_Brooklyn', 'bairro_Manhattan', 'bairro_Queens',\n",
       "       'bairro_Staten Island'],\n",
       "      dtype='object')"
      ]
     },
     "execution_count": 110,
     "metadata": {},
     "output_type": "execute_result"
    }
   ],
   "source": [
    "#nome das colunas\n",
    "df0.columns"
   ]
  },
  {
   "cell_type": "code",
   "execution_count": 111,
   "id": "4c3c29a0-bc1c-4ee1-97ed-9e917c8c72d1",
   "metadata": {},
   "outputs": [],
   "source": [
    "#Correção do nome das colunas com caracteres especiais e espaços\n",
    "df0.rename(columns={'room_type_Entire home/apt': 'room_type_Entire_home_apt', 'room_type_Private room':'room_type_Privat_room', 'room_type_Shared room':'room_type_Shared_room', 'bairro_Staten Island':'bairro_Staten_Island'}, inplace = True)"
   ]
  },
  {
   "cell_type": "code",
   "execution_count": 112,
   "id": "9c75f6a1-c09c-494e-a64a-7d42478d02a5",
   "metadata": {},
   "outputs": [],
   "source": [
    "#Seleção das colunas com valores quanttativos\n",
    "df0 = df0[['minimo_noites','numero_de_reviews', 'disponibilidade_365','calculado_host_listings_count','price', 'reviews_por_mes','room_type_Entire_home_apt', 'room_type_Privat_room', 'room_type_Shared_room','bairro_Bronx','bairro_Brooklyn', 'bairro_Manhattan', 'bairro_Queens','bairro_Staten_Island','latitude','longitude' ]]"
   ]
  },
  {
   "cell_type": "markdown",
   "id": "684fa61e-0684-4bda-83db-d01646f29d39",
   "metadata": {},
   "source": [
    "### Tratamento dos dados faltantes e outlier"
   ]
  },
  {
   "cell_type": "code",
   "execution_count": 113,
   "id": "63801ff3-ca8e-404c-9372-3c35a6a3b445",
   "metadata": {},
   "outputs": [],
   "source": [
    "dados = df0"
   ]
  },
  {
   "cell_type": "code",
   "execution_count": 114,
   "id": "ffead023-bcf6-4b27-8a04-5f8d322db568",
   "metadata": {},
   "outputs": [
    {
     "data": {
      "text/plain": [
       "disponibilidade_365\n",
       "0      17533\n",
       "365     1294\n",
       "364      491\n",
       "1        408\n",
       "89       361\n",
       "       ...  \n",
       "195       26\n",
       "183       24\n",
       "196       24\n",
       "181       23\n",
       "202       20\n",
       "Name: count, Length: 366, dtype: int64"
      ]
     },
     "execution_count": 114,
     "metadata": {},
     "output_type": "execute_result"
    }
   ],
   "source": [
    "# Conta a frequência de cada palavra\n",
    "disponibilidade = dados.disponibilidade_365.value_counts()\n",
    "disponibilidade"
   ]
  },
  {
   "cell_type": "code",
   "execution_count": 115,
   "id": "297d81b8-2afa-4d1a-97e3-2b07b1735775",
   "metadata": {},
   "outputs": [
    {
     "data": {
      "text/html": [
       "<div>\n",
       "<style scoped>\n",
       "    .dataframe tbody tr th:only-of-type {\n",
       "        vertical-align: middle;\n",
       "    }\n",
       "\n",
       "    .dataframe tbody tr th {\n",
       "        vertical-align: top;\n",
       "    }\n",
       "\n",
       "    .dataframe thead th {\n",
       "        text-align: right;\n",
       "    }\n",
       "</style>\n",
       "<table border=\"1\" class=\"dataframe\">\n",
       "  <thead>\n",
       "    <tr style=\"text-align: right;\">\n",
       "      <th></th>\n",
       "      <th>minimo_noites</th>\n",
       "      <th>numero_de_reviews</th>\n",
       "      <th>disponibilidade_365</th>\n",
       "      <th>calculado_host_listings_count</th>\n",
       "      <th>price</th>\n",
       "      <th>reviews_por_mes</th>\n",
       "      <th>latitude</th>\n",
       "      <th>longitude</th>\n",
       "    </tr>\n",
       "  </thead>\n",
       "  <tbody>\n",
       "    <tr>\n",
       "      <th>count</th>\n",
       "      <td>48894.000000</td>\n",
       "      <td>48894.000000</td>\n",
       "      <td>48894.000000</td>\n",
       "      <td>48894.000000</td>\n",
       "      <td>48894.000000</td>\n",
       "      <td>38842.000000</td>\n",
       "      <td>48894.000000</td>\n",
       "      <td>48894.000000</td>\n",
       "    </tr>\n",
       "    <tr>\n",
       "      <th>mean</th>\n",
       "      <td>7.030085</td>\n",
       "      <td>23.274758</td>\n",
       "      <td>112.776169</td>\n",
       "      <td>7.144005</td>\n",
       "      <td>152.720763</td>\n",
       "      <td>1.373251</td>\n",
       "      <td>40.728951</td>\n",
       "      <td>-73.952169</td>\n",
       "    </tr>\n",
       "    <tr>\n",
       "      <th>std</th>\n",
       "      <td>20.510741</td>\n",
       "      <td>44.550991</td>\n",
       "      <td>131.618692</td>\n",
       "      <td>32.952855</td>\n",
       "      <td>240.156625</td>\n",
       "      <td>1.680453</td>\n",
       "      <td>0.054529</td>\n",
       "      <td>0.046157</td>\n",
       "    </tr>\n",
       "    <tr>\n",
       "      <th>min</th>\n",
       "      <td>1.000000</td>\n",
       "      <td>0.000000</td>\n",
       "      <td>0.000000</td>\n",
       "      <td>1.000000</td>\n",
       "      <td>0.000000</td>\n",
       "      <td>0.010000</td>\n",
       "      <td>40.499790</td>\n",
       "      <td>-74.244420</td>\n",
       "    </tr>\n",
       "    <tr>\n",
       "      <th>25%</th>\n",
       "      <td>1.000000</td>\n",
       "      <td>1.000000</td>\n",
       "      <td>0.000000</td>\n",
       "      <td>1.000000</td>\n",
       "      <td>69.000000</td>\n",
       "      <td>0.190000</td>\n",
       "      <td>40.690100</td>\n",
       "      <td>-73.983070</td>\n",
       "    </tr>\n",
       "    <tr>\n",
       "      <th>50%</th>\n",
       "      <td>3.000000</td>\n",
       "      <td>5.000000</td>\n",
       "      <td>45.000000</td>\n",
       "      <td>1.000000</td>\n",
       "      <td>106.000000</td>\n",
       "      <td>0.720000</td>\n",
       "      <td>40.723075</td>\n",
       "      <td>-73.955680</td>\n",
       "    </tr>\n",
       "    <tr>\n",
       "      <th>75%</th>\n",
       "      <td>5.000000</td>\n",
       "      <td>24.000000</td>\n",
       "      <td>227.000000</td>\n",
       "      <td>2.000000</td>\n",
       "      <td>175.000000</td>\n",
       "      <td>2.020000</td>\n",
       "      <td>40.763117</td>\n",
       "      <td>-73.936273</td>\n",
       "    </tr>\n",
       "    <tr>\n",
       "      <th>max</th>\n",
       "      <td>1250.000000</td>\n",
       "      <td>629.000000</td>\n",
       "      <td>365.000000</td>\n",
       "      <td>327.000000</td>\n",
       "      <td>10000.000000</td>\n",
       "      <td>58.500000</td>\n",
       "      <td>40.913060</td>\n",
       "      <td>-73.712990</td>\n",
       "    </tr>\n",
       "  </tbody>\n",
       "</table>\n",
       "</div>"
      ],
      "text/plain": [
       "       minimo_noites  numero_de_reviews  disponibilidade_365  \\\n",
       "count   48894.000000       48894.000000         48894.000000   \n",
       "mean        7.030085          23.274758           112.776169   \n",
       "std        20.510741          44.550991           131.618692   \n",
       "min         1.000000           0.000000             0.000000   \n",
       "25%         1.000000           1.000000             0.000000   \n",
       "50%         3.000000           5.000000            45.000000   \n",
       "75%         5.000000          24.000000           227.000000   \n",
       "max      1250.000000         629.000000           365.000000   \n",
       "\n",
       "       calculado_host_listings_count         price  reviews_por_mes  \\\n",
       "count                   48894.000000  48894.000000     38842.000000   \n",
       "mean                        7.144005    152.720763         1.373251   \n",
       "std                        32.952855    240.156625         1.680453   \n",
       "min                         1.000000      0.000000         0.010000   \n",
       "25%                         1.000000     69.000000         0.190000   \n",
       "50%                         1.000000    106.000000         0.720000   \n",
       "75%                         2.000000    175.000000         2.020000   \n",
       "max                       327.000000  10000.000000        58.500000   \n",
       "\n",
       "           latitude     longitude  \n",
       "count  48894.000000  48894.000000  \n",
       "mean      40.728951    -73.952169  \n",
       "std        0.054529      0.046157  \n",
       "min       40.499790    -74.244420  \n",
       "25%       40.690100    -73.983070  \n",
       "50%       40.723075    -73.955680  \n",
       "75%       40.763117    -73.936273  \n",
       "max       40.913060    -73.712990  "
      ]
     },
     "execution_count": 115,
     "metadata": {},
     "output_type": "execute_result"
    }
   ],
   "source": [
    "dados.describe()"
   ]
  },
  {
   "cell_type": "code",
   "execution_count": 116,
   "id": "538e1352-e879-4862-b3ce-eb2e197032f8",
   "metadata": {},
   "outputs": [
    {
     "data": {
      "text/plain": [
       "minimo_noites                        0\n",
       "numero_de_reviews                    0\n",
       "disponibilidade_365                  0\n",
       "calculado_host_listings_count        0\n",
       "price                                0\n",
       "reviews_por_mes                  10052\n",
       "room_type_Entire_home_apt            0\n",
       "room_type_Privat_room                0\n",
       "room_type_Shared_room                0\n",
       "bairro_Bronx                         0\n",
       "bairro_Brooklyn                      0\n",
       "bairro_Manhattan                     0\n",
       "bairro_Queens                        0\n",
       "bairro_Staten_Island                 0\n",
       "latitude                             0\n",
       "longitude                            0\n",
       "dtype: int64"
      ]
     },
     "execution_count": 116,
     "metadata": {},
     "output_type": "execute_result"
    }
   ],
   "source": [
    "# conferencia dados faltantes\n",
    "dados.isna().sum() "
   ]
  },
  {
   "cell_type": "code",
   "execution_count": 117,
   "id": "b0ec471d-eba9-417d-9393-49fb1c78cee5",
   "metadata": {},
   "outputs": [],
   "source": [
    "#Preenchimento dos reviews por mês no valor aleatório entre 0.01 e 1\n",
    "dados['reviews_por_mes']=df0['reviews_por_mes'].fillna(value=random.uniform(0.01, 1))"
   ]
  },
  {
   "cell_type": "code",
   "execution_count": 118,
   "id": "3c099cd4-4c1e-4c4f-9f00-ad4c5e999eec",
   "metadata": {},
   "outputs": [],
   "source": [
    "#Substituir zero por 365\n",
    "for i in range(0,len(dados.disponibilidade_365)):\n",
    "    if (dados['disponibilidade_365'][i] == 0):\n",
    "        dados['disponibilidade_365'][i] = 365"
   ]
  },
  {
   "cell_type": "code",
   "execution_count": 119,
   "id": "fa3fc890-2989-4242-b759-fb467b19cd28",
   "metadata": {},
   "outputs": [
    {
     "data": {
      "text/plain": [
       "(48894, 16)"
      ]
     },
     "execution_count": 119,
     "metadata": {},
     "output_type": "execute_result"
    }
   ],
   "source": [
    "#dimensão do dataset\n",
    "dados.shape"
   ]
  },
  {
   "cell_type": "code",
   "execution_count": 120,
   "id": "88e903ca-0807-4f1e-888b-38cec7366613",
   "metadata": {},
   "outputs": [],
   "source": [
    "#Exclusão dos valores com preço superior a 500 e 0\n",
    "dados = dados[~(dados['price'] > 500)]\n",
    "dados = dados[~(dados['price'] == 0)]"
   ]
  },
  {
   "cell_type": "code",
   "execution_count": 121,
   "id": "b338c2c0-d915-46c4-8502-e2c10efc145f",
   "metadata": {},
   "outputs": [],
   "source": [
    "#Exclusão do minimo de noites maior que 15\n",
    "dados = dados[~(dados['minimo_noites'] > 10)]"
   ]
  },
  {
   "cell_type": "code",
   "execution_count": 135,
   "id": "5bc4bffd-b5a9-482c-a759-d8b5cbb5c89e",
   "metadata": {},
   "outputs": [],
   "source": [
    "#Exclusão do numero_de_reviews maior que 100 e zero\n",
    "dados = dados[~(dados['numero_de_reviews'] > 100)]\n",
    "dados = dados[~(dados['numero_de_reviews'] ==0)]"
   ]
  },
  {
   "cell_type": "code",
   "execution_count": 123,
   "id": "aa36be70-7fa9-4f12-a546-912f77469f16",
   "metadata": {},
   "outputs": [],
   "source": [
    "#Exclusão do reviews_por_mes maior que 10\n",
    "#dados = dados[~(dados['reviews_por_mes'] >10)]"
   ]
  },
  {
   "cell_type": "code",
   "execution_count": 136,
   "id": "cbe25a54-e323-408c-9619-2df129df692f",
   "metadata": {},
   "outputs": [
    {
     "data": {
      "text/plain": [
       "(31318, 16)"
      ]
     },
     "execution_count": 136,
     "metadata": {},
     "output_type": "execute_result"
    }
   ],
   "source": [
    "#dimensão do dataset\n",
    "dados.shape"
   ]
  },
  {
   "cell_type": "code",
   "execution_count": 137,
   "id": "4f652246-e985-448b-8368-de1983866cdb",
   "metadata": {},
   "outputs": [
    {
     "data": {
      "text/plain": [
       "price                            1.000000\n",
       "room_type_Entire_home_apt        0.572529\n",
       "bairro_Manhattan                 0.297992\n",
       "calculado_host_listings_count    0.118009\n",
       "minimo_noites                    0.071660\n",
       "latitude                         0.053642\n",
       "reviews_por_mes                 -0.013372\n",
       "numero_de_reviews               -0.029052\n",
       "disponibilidade_365             -0.036054\n",
       "bairro_Staten_Island            -0.043885\n",
       "bairro_Bronx                    -0.090260\n",
       "room_type_Shared_room           -0.123614\n",
       "bairro_Queens                   -0.154543\n",
       "bairro_Brooklyn                 -0.156894\n",
       "longitude                       -0.282587\n",
       "room_type_Privat_room           -0.536201\n",
       "Name: price, dtype: float64"
      ]
     },
     "execution_count": 137,
     "metadata": {},
     "output_type": "execute_result"
    }
   ],
   "source": [
    "# A correlação após os ajustes dos dados\n",
    "dados.corr()[\"price\"].sort_values(ascending = False)"
   ]
  },
  {
   "cell_type": "code",
   "execution_count": 138,
   "id": "6f42b6b7-b808-4a7b-a895-69f7fdf348e2",
   "metadata": {},
   "outputs": [
    {
     "data": {
      "text/html": [
       "<div>\n",
       "<style scoped>\n",
       "    .dataframe tbody tr th:only-of-type {\n",
       "        vertical-align: middle;\n",
       "    }\n",
       "\n",
       "    .dataframe tbody tr th {\n",
       "        vertical-align: top;\n",
       "    }\n",
       "\n",
       "    .dataframe thead th {\n",
       "        text-align: right;\n",
       "    }\n",
       "</style>\n",
       "<table border=\"1\" class=\"dataframe\">\n",
       "  <thead>\n",
       "    <tr style=\"text-align: right;\">\n",
       "      <th></th>\n",
       "      <th>minimo_noites</th>\n",
       "      <th>numero_de_reviews</th>\n",
       "      <th>disponibilidade_365</th>\n",
       "      <th>calculado_host_listings_count</th>\n",
       "      <th>price</th>\n",
       "      <th>reviews_por_mes</th>\n",
       "      <th>latitude</th>\n",
       "      <th>longitude</th>\n",
       "    </tr>\n",
       "  </thead>\n",
       "  <tbody>\n",
       "    <tr>\n",
       "      <th>count</th>\n",
       "      <td>31318.000000</td>\n",
       "      <td>31318.000000</td>\n",
       "      <td>31318.000000</td>\n",
       "      <td>31318.000000</td>\n",
       "      <td>31318.000000</td>\n",
       "      <td>31318.000000</td>\n",
       "      <td>31318.000000</td>\n",
       "      <td>31318.000000</td>\n",
       "    </tr>\n",
       "    <tr>\n",
       "      <th>mean</th>\n",
       "      <td>2.721406</td>\n",
       "      <td>18.993390</td>\n",
       "      <td>235.734625</td>\n",
       "      <td>3.796028</td>\n",
       "      <td>128.923814</td>\n",
       "      <td>1.274939</td>\n",
       "      <td>40.727399</td>\n",
       "      <td>-73.949742</td>\n",
       "    </tr>\n",
       "    <tr>\n",
       "      <th>std</th>\n",
       "      <td>1.806880</td>\n",
       "      <td>23.054615</td>\n",
       "      <td>140.419172</td>\n",
       "      <td>24.754499</td>\n",
       "      <td>85.907216</td>\n",
       "      <td>1.539901</td>\n",
       "      <td>0.055942</td>\n",
       "      <td>0.047894</td>\n",
       "    </tr>\n",
       "    <tr>\n",
       "      <th>min</th>\n",
       "      <td>1.000000</td>\n",
       "      <td>1.000000</td>\n",
       "      <td>1.000000</td>\n",
       "      <td>1.000000</td>\n",
       "      <td>10.000000</td>\n",
       "      <td>0.010000</td>\n",
       "      <td>40.506410</td>\n",
       "      <td>-74.244420</td>\n",
       "    </tr>\n",
       "    <tr>\n",
       "      <th>25%</th>\n",
       "      <td>1.000000</td>\n",
       "      <td>3.000000</td>\n",
       "      <td>87.000000</td>\n",
       "      <td>1.000000</td>\n",
       "      <td>67.000000</td>\n",
       "      <td>0.190000</td>\n",
       "      <td>40.688160</td>\n",
       "      <td>-73.981840</td>\n",
       "    </tr>\n",
       "    <tr>\n",
       "      <th>50%</th>\n",
       "      <td>2.000000</td>\n",
       "      <td>9.000000</td>\n",
       "      <td>308.000000</td>\n",
       "      <td>1.000000</td>\n",
       "      <td>100.000000</td>\n",
       "      <td>0.700000</td>\n",
       "      <td>40.720250</td>\n",
       "      <td>-73.953920</td>\n",
       "    </tr>\n",
       "    <tr>\n",
       "      <th>75%</th>\n",
       "      <td>3.000000</td>\n",
       "      <td>26.000000</td>\n",
       "      <td>365.000000</td>\n",
       "      <td>2.000000</td>\n",
       "      <td>165.000000</td>\n",
       "      <td>1.870000</td>\n",
       "      <td>40.762837</td>\n",
       "      <td>-73.932903</td>\n",
       "    </tr>\n",
       "    <tr>\n",
       "      <th>max</th>\n",
       "      <td>10.000000</td>\n",
       "      <td>100.000000</td>\n",
       "      <td>365.000000</td>\n",
       "      <td>327.000000</td>\n",
       "      <td>500.000000</td>\n",
       "      <td>27.950000</td>\n",
       "      <td>40.913060</td>\n",
       "      <td>-73.712990</td>\n",
       "    </tr>\n",
       "  </tbody>\n",
       "</table>\n",
       "</div>"
      ],
      "text/plain": [
       "       minimo_noites  numero_de_reviews  disponibilidade_365  \\\n",
       "count   31318.000000       31318.000000         31318.000000   \n",
       "mean        2.721406          18.993390           235.734625   \n",
       "std         1.806880          23.054615           140.419172   \n",
       "min         1.000000           1.000000             1.000000   \n",
       "25%         1.000000           3.000000            87.000000   \n",
       "50%         2.000000           9.000000           308.000000   \n",
       "75%         3.000000          26.000000           365.000000   \n",
       "max        10.000000         100.000000           365.000000   \n",
       "\n",
       "       calculado_host_listings_count         price  reviews_por_mes  \\\n",
       "count                   31318.000000  31318.000000     31318.000000   \n",
       "mean                        3.796028    128.923814         1.274939   \n",
       "std                        24.754499     85.907216         1.539901   \n",
       "min                         1.000000     10.000000         0.010000   \n",
       "25%                         1.000000     67.000000         0.190000   \n",
       "50%                         1.000000    100.000000         0.700000   \n",
       "75%                         2.000000    165.000000         1.870000   \n",
       "max                       327.000000    500.000000        27.950000   \n",
       "\n",
       "           latitude     longitude  \n",
       "count  31318.000000  31318.000000  \n",
       "mean      40.727399    -73.949742  \n",
       "std        0.055942      0.047894  \n",
       "min       40.506410    -74.244420  \n",
       "25%       40.688160    -73.981840  \n",
       "50%       40.720250    -73.953920  \n",
       "75%       40.762837    -73.932903  \n",
       "max       40.913060    -73.712990  "
      ]
     },
     "execution_count": 138,
     "metadata": {},
     "output_type": "execute_result"
    }
   ],
   "source": [
    "dados.describe()"
   ]
  },
  {
   "cell_type": "markdown",
   "id": "69367675-5789-4c52-9c0e-8dfbb2c1eef8",
   "metadata": {},
   "source": [
    "### Histograma dos dados "
   ]
  },
  {
   "cell_type": "code",
   "execution_count": 139,
   "id": "6dfcacb6-e28f-421e-8180-843bb2a05281",
   "metadata": {
    "scrolled": true
   },
   "outputs": [
    {
     "data": {
      "image/png": "[encoded data removed]",
      "text/plain": [
       "<Figure size 1000x1000 with 9 Axes>"
      ]
     },
     "metadata": {},
     "output_type": "display_data"
    }
   ],
   "source": [
    "#Verificação da curva normal dos dados\n",
    "dados.hist(bins=80, figsize=(10,10),color=\"blue\"); plt.show()"
   ]
  },
  {
   "cell_type": "markdown",
   "id": "710c4168-c844-4165-9820-e85621d87d8c",
   "metadata": {},
   "source": [
    "### Regressão "
   ]
  },
  {
   "cell_type": "code",
   "execution_count": 140,
   "id": "b4932448-0922-4fc5-8a7c-931cb8a53016",
   "metadata": {},
   "outputs": [],
   "source": [
    "#DADOS DAS VARIÁVEIS INDEPENDENTES\n",
    "X = dados.drop([\"price\"], axis = 1)\n",
    "\n",
    "#DADOS DA VARIÁVEL DEPENDENTE, QUE QUEREMOS ENCONTRAR\n",
    "y = dados[\"price\"]\n",
    "\n",
    "#DIVISÃO DO DATA FRAME EM TEST E TREINAMENTO 70% TREINAMENTO E 80% TESTE\n",
    "X_train, X_test, y_train, y_test = train_test_split(X, y, test_size = 0.35, random_state=30)"
   ]
  },
  {
   "cell_type": "code",
   "execution_count": 141,
   "id": "0f845ca9-0322-49f9-89ed-8b5c97f7a2ec",
   "metadata": {},
   "outputs": [
    {
     "name": "stdout",
     "output_type": "stream",
     "text": [
      "X_train dimensões (20356, 15) e tamanho 305340\n",
      "X_test dimensões (10962, 15) e tamanho 164430\n",
      "y_train dimensões (20356,) e tamanho 20356\n",
      "y_test dimensões (10962,) e tamanho 10962\n"
     ]
    }
   ],
   "source": [
    "print(f\"X_train dimensões {X_train.shape} e tamanho {X_train.size}\")\n",
    "print(f\"X_test dimensões {X_test.shape} e tamanho {X_test.size}\")\n",
    "print(f\"y_train dimensões {y_train.shape} e tamanho {y_train.size}\")\n",
    "print(f\"y_test dimensões {y_test.shape} e tamanho {y_test.size}\")"
   ]
  },
  {
   "cell_type": "code",
   "execution_count": 142,
   "id": "0d76d7af-b580-4a95-9f15-f18106315db1",
   "metadata": {},
   "outputs": [],
   "source": [
    "# Criando o modelo LinearRegression()\n",
    "regLinear = LinearRegression()\n",
    "# Realizar treinamento do modelo\n",
    "regLinear.fit(X_train, y_train)\n",
    "# Realizar predição com os dados separados para teste\n",
    "pred_regLinear = regLinear.predict(X_test)"
   ]
  },
  {
   "cell_type": "code",
   "execution_count": 143,
   "id": "1ac76fb9-1988-4139-a417-966fb6cd8f46",
   "metadata": {},
   "outputs": [
    {
     "name": "stdout",
     "output_type": "stream",
     "text": [
      "Intercept: -16193.255977498979\n",
      "Predição amostra de 3: [ 38.58261609 125.19828191 159.96021222]\n",
      "Erro absoluto médio (MAE): 44.39\n",
      "Erro quadrado médio (MSE): 4277.74\n",
      "R2: 0.417041\n"
     ]
    }
   ],
   "source": [
    "#intercept\n",
    "iRG = (regLinear.intercept_)\n",
    "print(\"Intercept: \"+str(iRG))\n",
    "# Visualização dos 03 primeiros resultados\n",
    "print(f'Predição amostra de 3: {pred_regLinear[:3]}')\n",
    "#Mean absolute error\n",
    "maeRG = mean_absolute_error(y_test, pred_regLinear)\n",
    "print('Erro absoluto médio (MAE): %.2f' % maeRG)\n",
    "#Mean squared error\n",
    "mRG = mean_squared_error(y_test, pred_regLinear)\n",
    "print('Erro quadrado médio (MSE): %.2f' % mRG)\n",
    "# R2\n",
    "r2RG = r2_score(y_test, pred_regLinear)\n",
    "print('R2: %.6f' % r2RG)"
   ]
  },
  {
   "cell_type": "code",
   "execution_count": 144,
   "id": "570bb651-43e1-4834-97df-d5276fed5070",
   "metadata": {},
   "outputs": [],
   "source": [
    "y_test = np.array(y_test)"
   ]
  },
  {
   "cell_type": "markdown",
   "id": "536e5a2f-8985-453c-a5b8-81cc6f0a2bf0",
   "metadata": {},
   "source": [
    "### Modelo RandomForestRegressor()"
   ]
  },
  {
   "cell_type": "code",
   "execution_count": 145,
   "id": "6222e899-16f5-4efa-b00a-94ff1f6acada",
   "metadata": {},
   "outputs": [],
   "source": [
    "forest_reg = RandomForestRegressor(n_estimators=30,random_state=10)\n",
    "forest_reg.fit(X_train , y_train)\n",
    "y_pred_forest = forest_reg.predict(X_test)"
   ]
  },
  {
   "cell_type": "code",
   "execution_count": 146,
   "id": "d9d41e4f-1b80-4ae0-a0b1-6e02722ce531",
   "metadata": {},
   "outputs": [
    {
     "name": "stdout",
     "output_type": "stream",
     "text": [
      "Predição amostra de 3: [ 32.9        156.66666667 112.46666667]\n",
      "Erro absoluto médio (MAE): 40.63\n",
      "Erro quadrado médio (MSE): 3694.49\n",
      "R2: 0.496525\n"
     ]
    }
   ],
   "source": [
    "#intercept\n",
    "#não possui intercepr\n",
    "iRF = 0\n",
    "# Visualização dos 03 primeiros resultados\n",
    "print(f'Predição amostra de 3: {y_pred_forest[:3]}')\n",
    "#Mean absolute error\n",
    "maeRF = mean_absolute_error(y_test, y_pred_forest)\n",
    "print('Erro absoluto médio (MAE): %.2f' % maeRF)\n",
    "#Mean squared error\n",
    "mRF = mean_squared_error(y_test, y_pred_forest)\n",
    "print('Erro quadrado médio (MSE): %.2f' % mRF)\n",
    "# R2\n",
    "r2RF = r2_score(y_test, y_pred_forest)\n",
    "print('R2: %.6f' % r2RF)"
   ]
  },
  {
   "cell_type": "code",
   "execution_count": null,
   "id": "202ee0e0-6621-4314-9941-1066a81e1c27",
   "metadata": {},
   "outputs": [],
   "source": []
  },
  {
   "cell_type": "markdown",
   "id": "bafd989f-6cfd-4bb4-bf8b-fe6638b49e34",
   "metadata": {},
   "source": [
    "### Novo Valor"
   ]
  },
  {
   "cell_type": "markdown",
   "id": "522ad10b-7475-419f-ad9c-8b7470cedc46",
   "metadata": {},
   "source": [
    "{'id': 2595,\n",
    " 'nome': 'Skylit Midtown Castle',\n",
    " 'host_id': 2845,\n",
    " 'host_name': 'Jennifer',\n",
    " 'bairro_group': 'Manhattan',\n",
    " 'bairro': 'Midtown',\n",
    " 'latitude': 40.75362,\n",
    " 'longitude': -73.98377,\n",
    " 'room_type': 'Entire home/apt',\n",
    " 'price': 225,\n",
    " 'minimo_noites': 1,\n",
    " 'numero_de_reviews': 45,\n",
    " 'ultima_review': '2019-05-21',\n",
    " 'reviews_por_mes': 0.38,\n",
    " 'calculado_host_listings_count': 2,\n",
    " 'disponibilidade_365': 355}"
   ]
  },
  {
   "cell_type": "code",
   "execution_count": 170,
   "id": "7e61d08e-f198-4908-8366-4064e71767bb",
   "metadata": {},
   "outputs": [],
   "source": [
    "obj = {'minimo_noites': [1],\n",
    "       'numero_de_reviews': [45],\n",
    "        'disponibilidade_365': [355],\n",
    "       'calculado_host_listings_count': [2],\n",
    "       'price': [225],\n",
    "        'reviews_por_mes': [0.38],\n",
    "       'room_type_Entire_home_apt': True,\n",
    "        'room_type_Privat_room':False,\n",
    "       'room_type_Shared_room':False,\n",
    "       'bairro_Bronx':False,\n",
    "       'bairro_Brooklyn':False,\n",
    "    'bairro_Manhattan': True,       \n",
    "        'bairro_Queens':False,\n",
    "        'bairro_Staten_Island':False,\n",
    " 'latitude': [40.75362],\n",
    " 'longitude': [-73.98377]\n",
    "}"
   ]
  },
  {
   "cell_type": "markdown",
   "id": "ee3f7996-a537-497e-9c93-1122a0272006",
   "metadata": {},
   "source": []
  },
  {
   "cell_type": "code",
   "execution_count": 171,
   "id": "01db8ecb-9eeb-4f98-890b-3ee47024c0e4",
   "metadata": {},
   "outputs": [],
   "source": [
    "teste = pd.DataFrame(obj)"
   ]
  },
  {
   "cell_type": "code",
   "execution_count": 172,
   "id": "024abb0c-270b-4270-ab6a-d17631295422",
   "metadata": {},
   "outputs": [
    {
     "data": {
      "text/html": [
       "<div>\n",
       "<style scoped>\n",
       "    .dataframe tbody tr th:only-of-type {\n",
       "        vertical-align: middle;\n",
       "    }\n",
       "\n",
       "    .dataframe tbody tr th {\n",
       "        vertical-align: top;\n",
       "    }\n",
       "\n",
       "    .dataframe thead th {\n",
       "        text-align: right;\n",
       "    }\n",
       "</style>\n",
       "<table border=\"1\" class=\"dataframe\">\n",
       "  <thead>\n",
       "    <tr style=\"text-align: right;\">\n",
       "      <th></th>\n",
       "      <th>minimo_noites</th>\n",
       "      <th>numero_de_reviews</th>\n",
       "      <th>disponibilidade_365</th>\n",
       "      <th>calculado_host_listings_count</th>\n",
       "      <th>price</th>\n",
       "      <th>reviews_por_mes</th>\n",
       "      <th>room_type_Entire_home_apt</th>\n",
       "      <th>room_type_Privat_room</th>\n",
       "      <th>room_type_Shared_room</th>\n",
       "      <th>bairro_Bronx</th>\n",
       "      <th>bairro_Brooklyn</th>\n",
       "      <th>bairro_Manhattan</th>\n",
       "      <th>bairro_Queens</th>\n",
       "      <th>bairro_Staten_Island</th>\n",
       "      <th>latitude</th>\n",
       "      <th>longitude</th>\n",
       "    </tr>\n",
       "  </thead>\n",
       "  <tbody>\n",
       "    <tr>\n",
       "      <th>0</th>\n",
       "      <td>1</td>\n",
       "      <td>45</td>\n",
       "      <td>355</td>\n",
       "      <td>2</td>\n",
       "      <td>225</td>\n",
       "      <td>0.38</td>\n",
       "      <td>True</td>\n",
       "      <td>False</td>\n",
       "      <td>False</td>\n",
       "      <td>False</td>\n",
       "      <td>False</td>\n",
       "      <td>True</td>\n",
       "      <td>False</td>\n",
       "      <td>False</td>\n",
       "      <td>40.75362</td>\n",
       "      <td>-73.98377</td>\n",
       "    </tr>\n",
       "  </tbody>\n",
       "</table>\n",
       "</div>"
      ],
      "text/plain": [
       "   minimo_noites  numero_de_reviews  disponibilidade_365  \\\n",
       "0              1                 45                  355   \n",
       "\n",
       "   calculado_host_listings_count  price  reviews_por_mes  \\\n",
       "0                              2    225             0.38   \n",
       "\n",
       "   room_type_Entire_home_apt  room_type_Privat_room  room_type_Shared_room  \\\n",
       "0                       True                  False                  False   \n",
       "\n",
       "   bairro_Bronx  bairro_Brooklyn  bairro_Manhattan  bairro_Queens  \\\n",
       "0         False            False              True          False   \n",
       "\n",
       "   bairro_Staten_Island  latitude  longitude  \n",
       "0                 False  40.75362  -73.98377  "
      ]
     },
     "execution_count": 172,
     "metadata": {},
     "output_type": "execute_result"
    }
   ],
   "source": [
    "teste"
   ]
  },
  {
   "cell_type": "code",
   "execution_count": 173,
   "id": "02a66817-fe94-4d92-9997-1728d1841fb4",
   "metadata": {},
   "outputs": [],
   "source": [
    "#DADOS DAS VARIÁVEIS INDEPENDENTES\n",
    "X01 = teste.drop([\"price\"], axis = 1)\n",
    "\n",
    "#DADOS DA VARIÁVEL DEPENDENTE, QUE QUEREMOS ENCONTRAR\n",
    "y = teste[\"price\"]"
   ]
  },
  {
   "cell_type": "code",
   "execution_count": 174,
   "id": "9de8fd79-ce2d-4083-adc8-c549a0e1b89d",
   "metadata": {},
   "outputs": [],
   "source": [
    "y01 = forest_reg.predict(X01)"
   ]
  },
  {
   "cell_type": "code",
   "execution_count": 175,
   "id": "8f88c69f-8188-4d56-b483-6cf5af340d7a",
   "metadata": {},
   "outputs": [
    {
     "data": {
      "text/plain": [
       "array([257.4])"
      ]
     },
     "execution_count": 175,
     "metadata": {},
     "output_type": "execute_result"
    }
   ],
   "source": [
    "#Valor da Previsão\n",
    "y01"
   ]
  },
  {
   "cell_type": "code",
   "execution_count": 181,
   "id": "1fc74e39-6d74-46c8-be28-db48e1cf5ef9",
   "metadata": {},
   "outputs": [
    {
     "data": {
      "text/plain": [
       "0    225\n",
       "Name: price, dtype: int64"
      ]
     },
     "execution_count": 181,
     "metadata": {},
     "output_type": "execute_result"
    }
   ],
   "source": [
    "#Valor da Real\n",
    "y\n"
   ]
  },
  {
   "cell_type": "code",
   "execution_count": 176,
   "id": "5c5665e5-ac27-44ba-a7af-dc4901dd6474",
   "metadata": {},
   "outputs": [],
   "source": [
    "import pickle\n",
    "\n",
    "with open(\"modelo.pkl\", \"wb\") as arquivo:\n",
    "\tpickle.dump(forest_reg,arquivo)"
   ]
  },
  {
   "cell_type": "code",
   "execution_count": null,
   "id": "67d4ce6d-f917-4933-9288-a1483216ff0d",
   "metadata": {},
   "outputs": [],
   "source": []
  },
  {
   "cell_type": "code",
   "execution_count": null,
   "id": "2bbd4b3f-0c9d-471e-a6e2-4c5daf28f2c0",
   "metadata": {},
   "outputs": [],
   "source": [
    "###### Fonte: https://gomesguilherme.medium.com/guia-inicial-de-pr%C3%A9-processamento-de-texto-utilizando-python-10950eac2ffe"
   ]
  }
 ],
 "metadata": {
  "kernelspec": {
   "display_name": "Python 3 (ipykernel)",
   "language": "python",
   "name": "python3"
  },
  "language_info": {
   "codemirror_mode": {
    "name": "ipython",
    "version": 3
   },
   "file_extension": ".py",
   "mimetype": "text/x-python",
   "name": "python",
   "nbconvert_exporter": "python",
   "pygments_lexer": "ipython3",
   "version": "3.11.6"
  }
 },
 "nbformat": 4,
 "nbformat_minor": 5
}
